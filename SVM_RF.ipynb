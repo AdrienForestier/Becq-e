{
 "cells": [
  {
   "cell_type": "markdown",
   "source": [
    "# Importation des données"
   ],
   "metadata": {
    "collapsed": false
   }
  },
  {
   "cell_type": "code",
   "execution_count": 1,
   "id": "a37546dd",
   "metadata": {},
   "outputs": [],
   "source": [
    "import os.path\n",
    "\n",
    "import pandas as pd\n",
    "import numpy as np\n",
    "\n",
    "from PIL import Image\n",
    "\n",
    "import matplotlib.pyplot as plt\n",
    "\n",
    "from sklearn.model_selection import train_test_split\n",
    "from sklearn.svm import SVC\n",
    "from sklearn.metrics import accuracy_score\n",
    "from sklearn.metrics import confusion_matrix\n",
    "from sklearn.ensemble import RandomForestClassifier\n",
    "\n",
    "from skimage.feature import hog\n",
    "from skimage.color import rgb2gray\n",
    "\n",
    "from collections import Counter"
   ]
  },
  {
   "cell_type": "code",
   "execution_count": 2,
   "id": "c8d14af0",
   "metadata": {},
   "outputs": [
    {
     "data": {
      "text/plain": "        ID           Label\n0        1          Tuiles\n1        2  Zinc Aluminium\n2        3          Tuiles\n3        4          Tuiles\n4        5          Tuiles\n...    ...             ...\n1994  1995        Ardoises\n1995  1996        Ardoises\n1996  1997        Ardoises\n1997  1998        Ardoises\n1998  1999        Ardoises\n\n[1999 rows x 2 columns]",
      "text/html": "<div>\n<style scoped>\n    .dataframe tbody tr th:only-of-type {\n        vertical-align: middle;\n    }\n\n    .dataframe tbody tr th {\n        vertical-align: top;\n    }\n\n    .dataframe thead th {\n        text-align: right;\n    }\n</style>\n<table border=\"1\" class=\"dataframe\">\n  <thead>\n    <tr style=\"text-align: right;\">\n      <th></th>\n      <th>ID</th>\n      <th>Label</th>\n    </tr>\n  </thead>\n  <tbody>\n    <tr>\n      <th>0</th>\n      <td>1</td>\n      <td>Tuiles</td>\n    </tr>\n    <tr>\n      <th>1</th>\n      <td>2</td>\n      <td>Zinc Aluminium</td>\n    </tr>\n    <tr>\n      <th>2</th>\n      <td>3</td>\n      <td>Tuiles</td>\n    </tr>\n    <tr>\n      <th>3</th>\n      <td>4</td>\n      <td>Tuiles</td>\n    </tr>\n    <tr>\n      <th>4</th>\n      <td>5</td>\n      <td>Tuiles</td>\n    </tr>\n    <tr>\n      <th>...</th>\n      <td>...</td>\n      <td>...</td>\n    </tr>\n    <tr>\n      <th>1994</th>\n      <td>1995</td>\n      <td>Ardoises</td>\n    </tr>\n    <tr>\n      <th>1995</th>\n      <td>1996</td>\n      <td>Ardoises</td>\n    </tr>\n    <tr>\n      <th>1996</th>\n      <td>1997</td>\n      <td>Ardoises</td>\n    </tr>\n    <tr>\n      <th>1997</th>\n      <td>1998</td>\n      <td>Ardoises</td>\n    </tr>\n    <tr>\n      <th>1998</th>\n      <td>1999</td>\n      <td>Ardoises</td>\n    </tr>\n  </tbody>\n</table>\n<p>1999 rows × 2 columns</p>\n</div>"
     },
     "execution_count": 2,
     "metadata": {},
     "output_type": "execute_result"
    }
   ],
   "source": [
    "data=pd.read_csv(r'./images/batiments.csv', delimiter=';')\n",
    "data=data.drop(data.columns[1], axis=1)\n",
    "data.columns=['ID','Label']\n",
    "data"
   ]
  },
  {
   "cell_type": "code",
   "execution_count": 3,
   "id": "d53f8d2d",
   "metadata": {},
   "outputs": [],
   "source": [
    "#Method to load an image and return it as an array with pixels\n",
    "def get_image(image_id, root=r'./images/'):\n",
    "    file='{}.jpg'.format(image_id)\n",
    "    image_path=os.path.join(root, file)\n",
    "    image=Image.open(image_path)\n",
    "    image_array=np.array(image)\n",
    "    #print(image_path)\n",
    "    return image_array"
   ]
  },
  {
   "cell_type": "code",
   "execution_count": 4,
   "id": "76034911",
   "metadata": {},
   "outputs": [],
   "source": [
    "def create_features(img):\n",
    "    color_features = img.flatten()\n",
    "    flat_features = np.hstack(color_features)\n",
    "    return flat_features"
   ]
  },
  {
   "cell_type": "code",
   "execution_count": 5,
   "id": "78297510",
   "metadata": {},
   "outputs": [],
   "source": [
    "def create_feature_matrix(label_dataframe):\n",
    "    features_list = []\n",
    "    \n",
    "    for img_id in label_dataframe.index:\n",
    "        # load image\n",
    "        img = get_image(img_id)\n",
    "        # get features for image\n",
    "        image_features = create_features(img)\n",
    "        features_list.append(image_features)\n",
    "        \n",
    "    # convert list of arrays into a matrix\n",
    "    feature_matrix = np.array(features_list)\n",
    "    return feature_matrix"
   ]
  },
  {
   "cell_type": "code",
   "execution_count": 6,
   "id": "6390aa8e",
   "metadata": {},
   "outputs": [
    {
     "ename": "KeyboardInterrupt",
     "evalue": "",
     "output_type": "error",
     "traceback": [
      "\u001B[1;31m---------------------------------------------------------------------------\u001B[0m",
      "\u001B[1;31mKeyboardInterrupt\u001B[0m                         Traceback (most recent call last)",
      "\u001B[1;32m~\\AppData\\Local\\Temp/ipykernel_10392/992129693.py\u001B[0m in \u001B[0;36m<module>\u001B[1;34m\u001B[0m\n\u001B[1;32m----> 1\u001B[1;33m \u001B[0mfeature_matrix\u001B[0m \u001B[1;33m=\u001B[0m \u001B[0mcreate_feature_matrix\u001B[0m\u001B[1;33m(\u001B[0m\u001B[0mdata\u001B[0m\u001B[1;33m)\u001B[0m\u001B[1;33m\u001B[0m\u001B[1;33m\u001B[0m\u001B[0m\n\u001B[0m",
      "\u001B[1;32m~\\AppData\\Local\\Temp/ipykernel_10392/552369384.py\u001B[0m in \u001B[0;36mcreate_feature_matrix\u001B[1;34m(label_dataframe)\u001B[0m\n\u001B[0;32m      6\u001B[0m         \u001B[0mimg\u001B[0m \u001B[1;33m=\u001B[0m \u001B[0mget_image\u001B[0m\u001B[1;33m(\u001B[0m\u001B[0mimg_id\u001B[0m\u001B[1;33m)\u001B[0m\u001B[1;33m\u001B[0m\u001B[1;33m\u001B[0m\u001B[0m\n\u001B[0;32m      7\u001B[0m         \u001B[1;31m# get features for image\u001B[0m\u001B[1;33m\u001B[0m\u001B[1;33m\u001B[0m\u001B[0m\n\u001B[1;32m----> 8\u001B[1;33m         \u001B[0mimage_features\u001B[0m \u001B[1;33m=\u001B[0m \u001B[0mcreate_features\u001B[0m\u001B[1;33m(\u001B[0m\u001B[0mimg\u001B[0m\u001B[1;33m)\u001B[0m\u001B[1;33m\u001B[0m\u001B[1;33m\u001B[0m\u001B[0m\n\u001B[0m\u001B[0;32m      9\u001B[0m         \u001B[0mfeatures_list\u001B[0m\u001B[1;33m.\u001B[0m\u001B[0mappend\u001B[0m\u001B[1;33m(\u001B[0m\u001B[0mimage_features\u001B[0m\u001B[1;33m)\u001B[0m\u001B[1;33m\u001B[0m\u001B[1;33m\u001B[0m\u001B[0m\n\u001B[0;32m     10\u001B[0m \u001B[1;33m\u001B[0m\u001B[0m\n",
      "\u001B[1;32m~\\AppData\\Local\\Temp/ipykernel_10392/2172179830.py\u001B[0m in \u001B[0;36mcreate_features\u001B[1;34m(img)\u001B[0m\n\u001B[0;32m      1\u001B[0m \u001B[1;32mdef\u001B[0m \u001B[0mcreate_features\u001B[0m\u001B[1;33m(\u001B[0m\u001B[0mimg\u001B[0m\u001B[1;33m)\u001B[0m\u001B[1;33m:\u001B[0m\u001B[1;33m\u001B[0m\u001B[1;33m\u001B[0m\u001B[0m\n\u001B[0;32m      2\u001B[0m     \u001B[0mcolor_features\u001B[0m \u001B[1;33m=\u001B[0m \u001B[0mimg\u001B[0m\u001B[1;33m.\u001B[0m\u001B[0mflatten\u001B[0m\u001B[1;33m(\u001B[0m\u001B[1;33m)\u001B[0m\u001B[1;33m\u001B[0m\u001B[1;33m\u001B[0m\u001B[0m\n\u001B[1;32m----> 3\u001B[1;33m     \u001B[0mflat_features\u001B[0m \u001B[1;33m=\u001B[0m \u001B[0mnp\u001B[0m\u001B[1;33m.\u001B[0m\u001B[0mhstack\u001B[0m\u001B[1;33m(\u001B[0m\u001B[0mcolor_features\u001B[0m\u001B[1;33m)\u001B[0m\u001B[1;33m\u001B[0m\u001B[1;33m\u001B[0m\u001B[0m\n\u001B[0m\u001B[0;32m      4\u001B[0m     \u001B[1;32mreturn\u001B[0m \u001B[0mflat_features\u001B[0m\u001B[1;33m\u001B[0m\u001B[1;33m\u001B[0m\u001B[0m\n",
      "\u001B[1;32m~\\AppData\\Roaming\\Python\\Python39\\site-packages\\numpy\\core\\overrides.py\u001B[0m in \u001B[0;36mhstack\u001B[1;34m(*args, **kwargs)\u001B[0m\n",
      "\u001B[1;32m~\\AppData\\Roaming\\Python\\Python39\\site-packages\\numpy\\core\\shape_base.py\u001B[0m in \u001B[0;36mhstack\u001B[1;34m(tup)\u001B[0m\n\u001B[0;32m    336\u001B[0m         \u001B[0m_arrays_for_stack_dispatcher\u001B[0m\u001B[1;33m(\u001B[0m\u001B[0mtup\u001B[0m\u001B[1;33m,\u001B[0m \u001B[0mstacklevel\u001B[0m\u001B[1;33m=\u001B[0m\u001B[1;36m2\u001B[0m\u001B[1;33m)\u001B[0m\u001B[1;33m\u001B[0m\u001B[1;33m\u001B[0m\u001B[0m\n\u001B[0;32m    337\u001B[0m \u001B[1;33m\u001B[0m\u001B[0m\n\u001B[1;32m--> 338\u001B[1;33m     \u001B[0marrs\u001B[0m \u001B[1;33m=\u001B[0m \u001B[0matleast_1d\u001B[0m\u001B[1;33m(\u001B[0m\u001B[1;33m*\u001B[0m\u001B[0mtup\u001B[0m\u001B[1;33m)\u001B[0m\u001B[1;33m\u001B[0m\u001B[1;33m\u001B[0m\u001B[0m\n\u001B[0m\u001B[0;32m    339\u001B[0m     \u001B[1;32mif\u001B[0m \u001B[1;32mnot\u001B[0m \u001B[0misinstance\u001B[0m\u001B[1;33m(\u001B[0m\u001B[0marrs\u001B[0m\u001B[1;33m,\u001B[0m \u001B[0mlist\u001B[0m\u001B[1;33m)\u001B[0m\u001B[1;33m:\u001B[0m\u001B[1;33m\u001B[0m\u001B[1;33m\u001B[0m\u001B[0m\n\u001B[0;32m    340\u001B[0m         \u001B[0marrs\u001B[0m \u001B[1;33m=\u001B[0m \u001B[1;33m[\u001B[0m\u001B[0marrs\u001B[0m\u001B[1;33m]\u001B[0m\u001B[1;33m\u001B[0m\u001B[1;33m\u001B[0m\u001B[0m\n",
      "\u001B[1;32m~\\AppData\\Roaming\\Python\\Python39\\site-packages\\numpy\\core\\overrides.py\u001B[0m in \u001B[0;36matleast_1d\u001B[1;34m(*args, **kwargs)\u001B[0m\n",
      "\u001B[1;32m~\\AppData\\Roaming\\Python\\Python39\\site-packages\\numpy\\core\\shape_base.py\u001B[0m in \u001B[0;36matleast_1d\u001B[1;34m(*arys)\u001B[0m\n\u001B[0;32m     61\u001B[0m \u001B[1;33m\u001B[0m\u001B[0m\n\u001B[0;32m     62\u001B[0m     \"\"\"\n\u001B[1;32m---> 63\u001B[1;33m     \u001B[0mres\u001B[0m \u001B[1;33m=\u001B[0m \u001B[1;33m[\u001B[0m\u001B[1;33m]\u001B[0m\u001B[1;33m\u001B[0m\u001B[1;33m\u001B[0m\u001B[0m\n\u001B[0m\u001B[0;32m     64\u001B[0m     \u001B[1;32mfor\u001B[0m \u001B[0mary\u001B[0m \u001B[1;32min\u001B[0m \u001B[0marys\u001B[0m\u001B[1;33m:\u001B[0m\u001B[1;33m\u001B[0m\u001B[1;33m\u001B[0m\u001B[0m\n\u001B[0;32m     65\u001B[0m         \u001B[0mary\u001B[0m \u001B[1;33m=\u001B[0m \u001B[0masanyarray\u001B[0m\u001B[1;33m(\u001B[0m\u001B[0mary\u001B[0m\u001B[1;33m)\u001B[0m\u001B[1;33m\u001B[0m\u001B[1;33m\u001B[0m\u001B[0m\n",
      "\u001B[1;31mKeyboardInterrupt\u001B[0m: "
     ]
    }
   ],
   "source": [
    "feature_matrix = create_feature_matrix(data)"
   ]
  },
  {
   "cell_type": "code",
   "execution_count": null,
   "id": "ce0673d0",
   "metadata": {},
   "outputs": [],
   "source": [
    "X=pd.DataFrame(feature_matrix)\n",
    "y=pd.DataFrame(data.Label)\n",
    "X_train, X_test, y_train, y_test = train_test_split(X, y, test_size=.25,\n",
    "                                                    random_state=1234123)"
   ]
  },
  {
   "cell_type": "code",
   "execution_count": 8,
   "id": "ef313774",
   "metadata": {},
   "outputs": [
    {
     "name": "stderr",
     "output_type": "stream",
     "text": [
      "C:\\Users\\adrie\\anaconda3\\lib\\site-packages\\sklearn\\utils\\validation.py:63: DataConversionWarning: A column-vector y was passed when a 1d array was expected. Please change the shape of y to (n_samples, ), for example using ravel().\n",
      "  return f(*args, **kwargs)\n"
     ]
    },
    {
     "data": {
      "text/plain": [
       "SVC(kernel='linear', probability=True, random_state=400)"
      ]
     },
     "execution_count": 8,
     "metadata": {},
     "output_type": "execute_result"
    }
   ],
   "source": [
    "svm = SVC(kernel='linear', probability=True, random_state=400)\n",
    "svm.fit(X_train, y_train)"
   ]
  },
  {
   "cell_type": "code",
   "execution_count": 9,
   "id": "68df8e81",
   "metadata": {},
   "outputs": [],
   "source": [
    "param_grid = {'C': [1, 10, 100, 1000], 'gamma': [0.001, 0.01, 0.1, 1]}"
   ]
  },
  {
   "cell_type": "code",
   "execution_count": 11,
   "id": "8f68b1de",
   "metadata": {},
   "outputs": [],
   "source": [
    "from sklearn.model_selection import GridSearchCV"
   ]
  },
  {
   "cell_type": "code",
   "execution_count": 12,
   "id": "5730b5a1",
   "metadata": {},
   "outputs": [],
   "source": [
    "grid_search = GridSearchCV(svm, param_grid, cv=5)"
   ]
  },
  {
   "cell_type": "code",
   "execution_count": null,
   "id": "83a7ac98",
   "metadata": {},
   "outputs": [
    {
     "name": "stderr",
     "output_type": "stream",
     "text": [
      "C:\\Users\\adrie\\anaconda3\\lib\\site-packages\\sklearn\\utils\\validation.py:63: DataConversionWarning: A column-vector y was passed when a 1d array was expected. Please change the shape of y to (n_samples, ), for example using ravel().\n",
      "  return f(*args, **kwargs)\n"
     ]
    }
   ],
   "source": [
    "grid_search.fit(X_train, y_train)"
   ]
  },
  {
   "cell_type": "code",
   "execution_count": 10,
   "id": "e014a90e",
   "metadata": {},
   "outputs": [
    {
     "name": "stdout",
     "output_type": "stream",
     "text": [
      "Model accuracy is:  0.582\n"
     ]
    }
   ],
   "source": [
    "y_pred = svm.predict(X_test)\n",
    "accuracy = accuracy_score(y_test, y_pred)\n",
    "print('Model accuracy is: ', accuracy)"
   ]
  },
  {
   "cell_type": "code",
   "execution_count": 42,
   "id": "65cff571",
   "metadata": {
    "scrolled": true
   },
   "outputs": [],
   "source": [
    "y_test_list=y_test['Label'].tolist()"
   ]
  },
  {
   "cell_type": "code",
   "execution_count": 43,
   "id": "334edf42",
   "metadata": {},
   "outputs": [],
   "source": [
    "y_pred_list=y_pred.tolist()"
   ]
  },
  {
   "cell_type": "code",
   "execution_count": 44,
   "id": "557ab4a0",
   "metadata": {},
   "outputs": [],
   "source": [
    "cpt=len(y_pred_list)\n",
    "#len(y_pred_list), len(y_test_list)"
   ]
  },
  {
   "cell_type": "code",
   "execution_count": 18,
   "id": "4246e923",
   "metadata": {},
   "outputs": [],
   "source": [
    "def calculate_weighted_f1_score(confusion_matrix, weights):\n",
    "    # calculate precision for each class\n",
    "    precision = np.diag(confusion_matrix) / np.sum(confusion_matrix, axis = 0)\n",
    "    # calculate recall for each class\n",
    "    recall = np.diag(confusion_matrix) / np.sum(confusion_matrix, axis = 1)\n",
    "    # calculate F1-score for each class\n",
    "    f1_score = 2 * (precision * recall) / (precision + recall)\n",
    "    # weight the F1-score for each class\n",
    "    print(f1_score)\n",
    "    weighted_f1_score = f1_score * weights\n",
    "    # return the average weighted F1-score\n",
    "    return np.sum(weighted_f1_score)"
   ]
  },
  {
   "cell_type": "code",
   "execution_count": 45,
   "id": "6d7c8436",
   "metadata": {},
   "outputs": [
    {
     "name": "stdout",
     "output_type": "stream",
     "text": [
      "[0.59722222 0.2345679  0.80916031 0.34394904]\n",
      "0.581327723393642\n"
     ]
    }
   ],
   "source": [
    "frequency_actual = dict(Counter(y_test_list))\n",
    "weight = [frequency_actual[\"Ardoises\"],frequency_actual[\"Beton\"],frequency_actual[\"Tuiles\"],frequency_actual[\"Zinc Aluminium\"]]\n",
    "#print(pop,dim_zone,k,e,\"/5\")\n",
    "weight_norm = [wg/cpt for wg in weight]\n",
    "cm = confusion_matrix(y_test_list, y_pred_list)\n",
    "#print(metrics.classification_report(actual, predicted,digits=3))\n",
    "print(calculate_weighted_f1_score(cm,weight_norm))"
   ]
  },
  {
   "cell_type": "code",
   "execution_count": 53,
   "id": "047a7b53",
   "metadata": {},
   "outputs": [
    {
     "name": "stderr",
     "output_type": "stream",
     "text": [
      "C:\\Users\\adrie\\AppData\\Local\\Temp/ipykernel_12080/2213807630.py:2: DataConversionWarning: A column-vector y was passed when a 1d array was expected. Please change the shape of y to (n_samples,), for example using ravel().\n",
      "  clf.fit(X_train, y_train)\n"
     ]
    },
    {
     "data": {
      "text/plain": [
       "RandomForestClassifier(max_depth=6, n_estimators=600)"
      ]
     },
     "execution_count": 53,
     "metadata": {},
     "output_type": "execute_result"
    }
   ],
   "source": [
    "clf = RandomForestClassifier(n_estimators=600,max_depth=6)\n",
    "clf.fit(X_train, y_train)"
   ]
  },
  {
   "cell_type": "code",
   "execution_count": 54,
   "id": "89a38cec",
   "metadata": {},
   "outputs": [
    {
     "name": "stdout",
     "output_type": "stream",
     "text": [
      "Model accuracy is:  0.632\n"
     ]
    }
   ],
   "source": [
    "y_pred = clf.predict(X_test)\n",
    "accuracy = accuracy_score(y_test, y_pred)\n",
    "print('Model accuracy is: ', accuracy)"
   ]
  },
  {
   "cell_type": "code",
   "execution_count": 56,
   "id": "5d31dbc1",
   "metadata": {},
   "outputs": [],
   "source": [
    "y_test_list=y_test['Label'].tolist()"
   ]
  },
  {
   "cell_type": "code",
   "execution_count": 57,
   "id": "f10105dd",
   "metadata": {},
   "outputs": [],
   "source": [
    "y_pred_list=y_pred.tolist()"
   ]
  },
  {
   "cell_type": "code",
   "execution_count": 58,
   "id": "de6376a4",
   "metadata": {},
   "outputs": [
    {
     "name": "stdout",
     "output_type": "stream",
     "text": [
      "[0.66865672 0.09638554 0.7845805  0.38297872]\n",
      "0.5779788362298565\n"
     ]
    }
   ],
   "source": [
    "frequency_actual = dict(Counter(y_test_list))\n",
    "weight = [frequency_actual[\"Ardoises\"],frequency_actual[\"Beton\"],frequency_actual[\"Tuiles\"],frequency_actual[\"Zinc Aluminium\"]]\n",
    "#print(pop,dim_zone,k,e,\"/5\")\n",
    "weight_norm = [wg/cpt for wg in weight]\n",
    "cm = confusion_matrix(y_test_list, y_pred_list)\n",
    "#print(metrics.classification_report(actual, predicted,digits=3))\n",
    "print(calculate_weighted_f1_score(cm,weight_norm))"
   ]
  }
 ],
 "metadata": {
  "kernelspec": {
   "display_name": "Python 3 (ipykernel)",
   "language": "python",
   "name": "python3"
  },
  "language_info": {
   "codemirror_mode": {
    "name": "ipython",
    "version": 3
   },
   "file_extension": ".py",
   "mimetype": "text/x-python",
   "name": "python",
   "nbconvert_exporter": "python",
   "pygments_lexer": "ipython3",
   "version": "3.9.7"
  }
 },
 "nbformat": 4,
 "nbformat_minor": 5
}
